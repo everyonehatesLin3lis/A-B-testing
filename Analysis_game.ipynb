{
 "cells": [
  {
   "cell_type": "code",
   "execution_count": 10,
   "metadata": {},
   "outputs": [],
   "source": [
    "import sys, os\n",
    "\n",
    "path2add = os.path.normpath(\n",
    "    os.path.abspath(os.path.join(os.path.dirname(\"__file__\"), os.path.pardir, \"utils\"))\n",
    ")\n",
    "if path2add not in sys.path:\n",
    "    sys.path.append(path2add)"
   ]
  },
  {
   "cell_type": "code",
   "execution_count": 11,
   "metadata": {},
   "outputs": [],
   "source": [
    "from utils.utils import mean_confidence_interval"
   ]
  },
  {
   "cell_type": "code",
   "execution_count": 12,
   "metadata": {},
   "outputs": [],
   "source": [
    "import pandas as pd\n",
    "import numpy as np\n",
    "import matplotlib.pyplot as plt\n",
    "from scipy.stats import ranksums\n",
    "from scipy.stats import kstest\n",
    "from scipy.stats import bartlett"
   ]
  },
  {
   "cell_type": "code",
   "execution_count": 13,
   "metadata": {},
   "outputs": [
    {
     "name": "stdout",
     "output_type": "stream",
     "text": [
      "   userid  version  sum_gamerounds  retention_1  retention_7\n",
      "0     116  gate_30               3        False        False\n",
      "1     337  gate_30              38         True        False\n",
      "2     377  gate_40             165         True        False\n",
      "3     483  gate_40               1        False        False\n",
      "4     488  gate_40             179         True         True\n"
     ]
    }
   ],
   "source": [
    "data_file = os.path.join(os.getcwd(), 'data', 'cookie_cats.csv')\n",
    "\n",
    "try:\n",
    "    df = pd.read_csv(data_file)\n",
    "    print(df.head())\n",
    "except FileNotFoundError:\n",
    "    print(f\"File not found: {data_file}\")\n",
    "    print(\"Please check the path and ensure the file exists.\")"
   ]
  },
  {
   "cell_type": "code",
   "execution_count": 14,
   "metadata": {},
   "outputs": [
    {
     "data": {
      "text/html": [
       "<div>\n",
       "<style scoped>\n",
       "    .dataframe tbody tr th:only-of-type {\n",
       "        vertical-align: middle;\n",
       "    }\n",
       "\n",
       "    .dataframe tbody tr th {\n",
       "        vertical-align: top;\n",
       "    }\n",
       "\n",
       "    .dataframe thead th {\n",
       "        text-align: right;\n",
       "    }\n",
       "</style>\n",
       "<table border=\"1\" class=\"dataframe\">\n",
       "  <thead>\n",
       "    <tr style=\"text-align: right;\">\n",
       "      <th></th>\n",
       "      <th>userid</th>\n",
       "      <th>version</th>\n",
       "      <th>sum_gamerounds</th>\n",
       "      <th>retention_1</th>\n",
       "      <th>retention_7</th>\n",
       "    </tr>\n",
       "  </thead>\n",
       "  <tbody>\n",
       "    <tr>\n",
       "      <th>0</th>\n",
       "      <td>116</td>\n",
       "      <td>gate_30</td>\n",
       "      <td>3</td>\n",
       "      <td>False</td>\n",
       "      <td>False</td>\n",
       "    </tr>\n",
       "    <tr>\n",
       "      <th>1</th>\n",
       "      <td>337</td>\n",
       "      <td>gate_30</td>\n",
       "      <td>38</td>\n",
       "      <td>True</td>\n",
       "      <td>False</td>\n",
       "    </tr>\n",
       "    <tr>\n",
       "      <th>2</th>\n",
       "      <td>377</td>\n",
       "      <td>gate_40</td>\n",
       "      <td>165</td>\n",
       "      <td>True</td>\n",
       "      <td>False</td>\n",
       "    </tr>\n",
       "    <tr>\n",
       "      <th>3</th>\n",
       "      <td>483</td>\n",
       "      <td>gate_40</td>\n",
       "      <td>1</td>\n",
       "      <td>False</td>\n",
       "      <td>False</td>\n",
       "    </tr>\n",
       "    <tr>\n",
       "      <th>4</th>\n",
       "      <td>488</td>\n",
       "      <td>gate_40</td>\n",
       "      <td>179</td>\n",
       "      <td>True</td>\n",
       "      <td>True</td>\n",
       "    </tr>\n",
       "    <tr>\n",
       "      <th>...</th>\n",
       "      <td>...</td>\n",
       "      <td>...</td>\n",
       "      <td>...</td>\n",
       "      <td>...</td>\n",
       "      <td>...</td>\n",
       "    </tr>\n",
       "    <tr>\n",
       "      <th>90184</th>\n",
       "      <td>9999441</td>\n",
       "      <td>gate_40</td>\n",
       "      <td>97</td>\n",
       "      <td>True</td>\n",
       "      <td>False</td>\n",
       "    </tr>\n",
       "    <tr>\n",
       "      <th>90185</th>\n",
       "      <td>9999479</td>\n",
       "      <td>gate_40</td>\n",
       "      <td>30</td>\n",
       "      <td>False</td>\n",
       "      <td>False</td>\n",
       "    </tr>\n",
       "    <tr>\n",
       "      <th>90186</th>\n",
       "      <td>9999710</td>\n",
       "      <td>gate_30</td>\n",
       "      <td>28</td>\n",
       "      <td>True</td>\n",
       "      <td>False</td>\n",
       "    </tr>\n",
       "    <tr>\n",
       "      <th>90187</th>\n",
       "      <td>9999768</td>\n",
       "      <td>gate_40</td>\n",
       "      <td>51</td>\n",
       "      <td>True</td>\n",
       "      <td>False</td>\n",
       "    </tr>\n",
       "    <tr>\n",
       "      <th>90188</th>\n",
       "      <td>9999861</td>\n",
       "      <td>gate_40</td>\n",
       "      <td>16</td>\n",
       "      <td>False</td>\n",
       "      <td>False</td>\n",
       "    </tr>\n",
       "  </tbody>\n",
       "</table>\n",
       "<p>90189 rows × 5 columns</p>\n",
       "</div>"
      ],
      "text/plain": [
       "        userid  version  sum_gamerounds  retention_1  retention_7\n",
       "0          116  gate_30               3        False        False\n",
       "1          337  gate_30              38         True        False\n",
       "2          377  gate_40             165         True        False\n",
       "3          483  gate_40               1        False        False\n",
       "4          488  gate_40             179         True         True\n",
       "...        ...      ...             ...          ...          ...\n",
       "90184  9999441  gate_40              97         True        False\n",
       "90185  9999479  gate_40              30        False        False\n",
       "90186  9999710  gate_30              28         True        False\n",
       "90187  9999768  gate_40              51         True        False\n",
       "90188  9999861  gate_40              16        False        False\n",
       "\n",
       "[90189 rows x 5 columns]"
      ]
     },
     "execution_count": 14,
     "metadata": {},
     "output_type": "execute_result"
    }
   ],
   "source": [
    "df"
   ]
  },
  {
   "cell_type": "code",
   "execution_count": 15,
   "metadata": {},
   "outputs": [
    {
     "name": "stdout",
     "output_type": "stream",
     "text": [
      "<class 'pandas.core.frame.DataFrame'>\n",
      "RangeIndex: 90189 entries, 0 to 90188\n",
      "Data columns (total 5 columns):\n",
      " #   Column          Non-Null Count  Dtype \n",
      "---  ------          --------------  ----- \n",
      " 0   userid          90189 non-null  int64 \n",
      " 1   version         90189 non-null  object\n",
      " 2   sum_gamerounds  90189 non-null  int64 \n",
      " 3   retention_1     90189 non-null  bool  \n",
      " 4   retention_7     90189 non-null  bool  \n",
      "dtypes: bool(2), int64(2), object(1)\n",
      "memory usage: 2.2+ MB\n"
     ]
    }
   ],
   "source": [
    "df.info()"
   ]
  },
  {
   "cell_type": "code",
   "execution_count": 16,
   "metadata": {},
   "outputs": [
    {
     "name": "stdout",
     "output_type": "stream",
     "text": [
      "userid            0\n",
      "version           0\n",
      "sum_gamerounds    0\n",
      "retention_1       0\n",
      "retention_7       0\n",
      "dtype: int64\n"
     ]
    }
   ],
   "source": [
    "print(df.isnull().sum())"
   ]
  },
  {
   "cell_type": "markdown",
   "metadata": {},
   "source": [
    "Data contains no empty values"
   ]
  },
  {
   "cell_type": "code",
   "execution_count": 17,
   "metadata": {},
   "outputs": [
    {
     "name": "stdout",
     "output_type": "stream",
     "text": [
      "0\n"
     ]
    }
   ],
   "source": [
    "print(df.duplicated().sum())"
   ]
  },
  {
   "cell_type": "markdown",
   "metadata": {},
   "source": [
    "Data contains no duplicates"
   ]
  },
  {
   "cell_type": "code",
   "execution_count": 18,
   "metadata": {},
   "outputs": [
    {
     "data": {
      "text/html": [
       "<div>\n",
       "<style scoped>\n",
       "    .dataframe tbody tr th:only-of-type {\n",
       "        vertical-align: middle;\n",
       "    }\n",
       "\n",
       "    .dataframe tbody tr th {\n",
       "        vertical-align: top;\n",
       "    }\n",
       "\n",
       "    .dataframe thead tr th {\n",
       "        text-align: left;\n",
       "    }\n",
       "\n",
       "    .dataframe thead tr:last-of-type th {\n",
       "        text-align: right;\n",
       "    }\n",
       "</style>\n",
       "<table border=\"1\" class=\"dataframe\">\n",
       "  <thead>\n",
       "    <tr>\n",
       "      <th></th>\n",
       "      <th colspan=\"3\" halign=\"left\">sum_gamerounds</th>\n",
       "    </tr>\n",
       "    <tr>\n",
       "      <th></th>\n",
       "      <th>mean</th>\n",
       "      <th>max</th>\n",
       "      <th>count</th>\n",
       "    </tr>\n",
       "    <tr>\n",
       "      <th>version</th>\n",
       "      <th></th>\n",
       "      <th></th>\n",
       "      <th></th>\n",
       "    </tr>\n",
       "  </thead>\n",
       "  <tbody>\n",
       "    <tr>\n",
       "      <th>gate_30</th>\n",
       "      <td>52.456264</td>\n",
       "      <td>49854</td>\n",
       "      <td>44700</td>\n",
       "    </tr>\n",
       "    <tr>\n",
       "      <th>gate_40</th>\n",
       "      <td>51.298776</td>\n",
       "      <td>2640</td>\n",
       "      <td>45489</td>\n",
       "    </tr>\n",
       "  </tbody>\n",
       "</table>\n",
       "</div>"
      ],
      "text/plain": [
       "        sum_gamerounds              \n",
       "                  mean    max  count\n",
       "version                             \n",
       "gate_30      52.456264  49854  44700\n",
       "gate_40      51.298776   2640  45489"
      ]
     },
     "execution_count": 18,
     "metadata": {},
     "output_type": "execute_result"
    }
   ],
   "source": [
    "df.groupby(\"version\").agg({\"sum_gamerounds\" : [\"mean\",\"max\",\"count\"]})"
   ]
  },
  {
   "cell_type": "markdown",
   "metadata": {},
   "source": [
    "It looks like there is roughly the same number of players in each group."
   ]
  },
  {
   "cell_type": "code",
   "execution_count": 19,
   "metadata": {},
   "outputs": [
    {
     "data": {
      "image/png": "[encoded data removed]",
      "text/plain": [
       "<Figure size 1200x600 with 1 Axes>"
      ]
     },
     "metadata": {},
     "output_type": "display_data"
    }
   ],
   "source": [
    "plot_df = df.groupby(\"sum_gamerounds\")[\"userid\"].count()\n",
    "\n",
    "fig, ax = plt.subplots(figsize=(12, 6))\n",
    "plot_df.head(100).plot(kind='bar', ax=ax, color='skyblue')\n",
    "\n",
    "ax.set_xticks(range(0, 100, 10))\n",
    "ax.set_xticklabels(range(0, 100, 10), rotation=45)\n",
    "\n",
    "ax.set_title(\"Distribution of Players by Game Rounds Played (0-100)\", fontweight=\"bold\", fontsize=14)\n",
    "ax.set_xlabel(\"Total Game Rounds\", fontsize=12)\n",
    "ax.set_ylabel(\"Number of Players\", fontsize=12)\n",
    "\n",
    "plt.grid(axis='y', linestyle='--', linewidth=0.7)\n",
    "plt.tight_layout()\n",
    "\n",
    "plt.show()"
   ]
  },
  {
   "cell_type": "markdown",
   "metadata": {},
   "source": [
    "We are able to see that some players have never played the game."
   ]
  },
  {
   "cell_type": "code",
   "execution_count": 20,
   "metadata": {},
   "outputs": [
    {
     "data": {
      "text/plain": [
       "3994"
      ]
     },
     "execution_count": 20,
     "metadata": {},
     "output_type": "execute_result"
    }
   ],
   "source": [
    "df[df[\"sum_gamerounds\"]== 0][\"userid\"].count()"
   ]
  },
  {
   "cell_type": "code",
   "execution_count": 21,
   "metadata": {},
   "outputs": [
    {
     "name": "stdout",
     "output_type": "stream",
     "text": [
      "1-day retention ratio: 44.52%\n",
      "7-days retention ratio: 18.61%\n"
     ]
    }
   ],
   "source": [
    "df_retention = df[[\"retention_1\", \"retention_7\"]].mean() * 100\n",
    "\n",
    "retention_1_day = round(df_retention[0], 2)\n",
    "retention_7_day = round(df_retention[1], 2)\n",
    "\n",
    "print(f\"1-day retention ratio: {retention_1_day}%\")\n",
    "print(f\"7-days retention ratio: {retention_7_day}%\")"
   ]
  },
  {
   "cell_type": "markdown",
   "metadata": {},
   "source": [
    "This means that a little less than half of the players come back one day\\\n",
    "after installing the game, and 18 percent of the players come back 7 days after installing the game."
   ]
  },
  {
   "cell_type": "code",
   "execution_count": 22,
   "metadata": {},
   "outputs": [
    {
     "data": {
      "text/html": [
       "<div>\n",
       "<style scoped>\n",
       "    .dataframe tbody tr th:only-of-type {\n",
       "        vertical-align: middle;\n",
       "    }\n",
       "\n",
       "    .dataframe tbody tr th {\n",
       "        vertical-align: top;\n",
       "    }\n",
       "\n",
       "    .dataframe thead th {\n",
       "        text-align: right;\n",
       "    }\n",
       "</style>\n",
       "<table border=\"1\" class=\"dataframe\">\n",
       "  <thead>\n",
       "    <tr style=\"text-align: right;\">\n",
       "      <th></th>\n",
       "      <th>userid</th>\n",
       "      <th>retention_1</th>\n",
       "      <th>retention_7</th>\n",
       "      <th>sum_gamerounds</th>\n",
       "    </tr>\n",
       "    <tr>\n",
       "      <th>version</th>\n",
       "      <th></th>\n",
       "      <th></th>\n",
       "      <th></th>\n",
       "      <th></th>\n",
       "    </tr>\n",
       "  </thead>\n",
       "  <tbody>\n",
       "    <tr>\n",
       "      <th>gate_30</th>\n",
       "      <td>44700</td>\n",
       "      <td>0.448188</td>\n",
       "      <td>0.190201</td>\n",
       "      <td>2344795</td>\n",
       "    </tr>\n",
       "    <tr>\n",
       "      <th>gate_40</th>\n",
       "      <td>45489</td>\n",
       "      <td>0.442283</td>\n",
       "      <td>0.182000</td>\n",
       "      <td>2333530</td>\n",
       "    </tr>\n",
       "  </tbody>\n",
       "</table>\n",
       "</div>"
      ],
      "text/plain": [
       "         userid  retention_1  retention_7  sum_gamerounds\n",
       "version                                                  \n",
       "gate_30   44700     0.448188     0.190201         2344795\n",
       "gate_40   45489     0.442283     0.182000         2333530"
      ]
     },
     "execution_count": 22,
     "metadata": {},
     "output_type": "execute_result"
    }
   ],
   "source": [
    "df_retention_ab = df.groupby(\"version\").agg({\n",
    "    \"userid\": \"count\",\n",
    "    \"retention_1\": \"mean\",\n",
    "    \"retention_7\": \"mean\",\n",
    "    \"sum_gamerounds\": \"sum\"\n",
    "})\n",
    "\n",
    "df_retention_ab"
   ]
  },
  {
   "cell_type": "markdown",
   "metadata": {},
   "source": [
    "- The 1-day retention rate for both groups is very close, with\\\n",
    "gate_30 slightly higher at 44.82% compared to gate_40 at 44.23%.\n",
    "- The 7-day retention rate is also slightly higher for gate_30\\\n",
    "at 19.02% compared to gate_40 at 18.20%."
   ]
  },
  {
   "cell_type": "markdown",
   "metadata": {},
   "source": [
    "### Checking Normality Assumption (Kolmogorov-Smirnov Test)\n",
    "- H0: The data follows a normal distribution.\n",
    "- H1: The data does not follow a normal distribution."
   ]
  },
  {
   "cell_type": "code",
   "execution_count": 23,
   "metadata": {},
   "outputs": [
    {
     "name": "stdout",
     "output_type": "stream",
     "text": [
      "Kolmogorov-Smirnov Test for gate_30 - Test Stat = 0.8724, p-value = 0.0000\n",
      "Kolmogorov-Smirnov Test for gate_40 - Test Stat = 0.8707, p-value = 0.0000\n"
     ]
    }
   ],
   "source": [
    "test_stat, pvalue = kstest(df.loc[df[\"version\"] == \"gate_30\", \"sum_gamerounds\"], 'norm')\n",
    "print(\"Kolmogorov-Smirnov Test for gate_30 - Test Stat = %.4f, p-value = %.4f\" % (test_stat, pvalue))\n",
    "\n",
    "test_stat, pvalue = kstest(df.loc[df[\"version\"] == \"gate_40\", \"sum_gamerounds\"], 'norm')\n",
    "print(\"Kolmogorov-Smirnov Test for gate_40 - Test Stat = %.4f, p-value = %.4f\" % (test_stat, pvalue))"
   ]
  },
  {
   "cell_type": "markdown",
   "metadata": {},
   "source": [
    "The p-values indicate that the assumption of normal distribution is\\\n",
    "violated for both gate_30 and gate_40 groups. This means the data for\\\n",
    "the number of game rounds played does not follow a normal distribution for either group."
   ]
  },
  {
   "cell_type": "markdown",
   "metadata": {},
   "source": [
    "### Checking Homogeneity of Variance (Bartlett's Test)\n",
    "- H0: The variances are equal.\n",
    "- H1: The variances are not equal."
   ]
  },
  {
   "cell_type": "code",
   "execution_count": 24,
   "metadata": {},
   "outputs": [
    {
     "name": "stdout",
     "output_type": "stream",
     "text": [
      "Bartlett's Test - Test Stat = 33272.5096, p-value = 0.0000\n"
     ]
    }
   ],
   "source": [
    "test_stat, pvalue = bartlett(df.loc[df[\"version\"] == \"gate_30\", \"sum_gamerounds\"],\n",
    "                             df.loc[df[\"version\"] == \"gate_40\", \"sum_gamerounds\"])\n",
    "print(\"Bartlett's Test - Test Stat = %.4f, p-value = %.4f\" % (test_stat, pvalue))"
   ]
  },
  {
   "cell_type": "markdown",
   "metadata": {},
   "source": [
    "The p-value is 0.0000, which is significantly less than the significance\\\n",
    "level (usually 0.05). This leads to the rejection of the null hypothesis."
   ]
  },
  {
   "cell_type": "markdown",
   "metadata": {},
   "source": [
    "### Choosing Between Parametric or Non-Parametric Test\n",
    "Given the results from the normality and homogeneity tests, choose\\\n",
    "the appropriate test for comparing the distributions:\n",
    "\n",
    "- If normality and homogeneity assumptions are met, use a parametric test.\n",
    "- If assumptions are violated, use a non-parametric test.\n",
    "\n",
    "1. Kolmogorov-Smirnov test p-values for both gate_30 and gate_40 were 0.0000,\\\n",
    "indicating that the data does not follow a normal distribution for either group.\\\n",
    "2. Bartlett's test p-value was 0.0000, indicating that the variances between\\\n",
    "the groups are not equal.\n",
    "\n",
    "Assumptions are violated so we use a non-parametric test."
   ]
  },
  {
   "cell_type": "markdown",
   "metadata": {},
   "source": [
    "### Wilcoxon Rank-Sum Test\n",
    "The Wilcoxon Rank-Sum Test is a non-parametric test used to compare the\\\n",
    "distributions of two independent groups. It does not assume normality or equal variances.\n",
    "\n",
    "Hypotheses:\n",
    "- H0: The distributions of \"sum_gamerounds\" are equal between the two groups.\n",
    "- H1: The distributions of \"sum_gamerounds\" are not equal between the two groups."
   ]
  },
  {
   "cell_type": "code",
   "execution_count": 25,
   "metadata": {},
   "outputs": [
    {
     "name": "stdout",
     "output_type": "stream",
     "text": [
      "Wilcoxon Rank-Sum Test - Test Stat = 1.9574, p-value = 0.0503\n"
     ]
    }
   ],
   "source": [
    "test_stat, pvalue = ranksums(df.loc[df[\"version\"] == \"gate_30\", \"sum_gamerounds\"],\n",
    "                             df.loc[df[\"version\"] == \"gate_40\", \"sum_gamerounds\"])\n",
    "print(\"Wilcoxon Rank-Sum Test - Test Stat = %.4f, p-value = %.4f\" % (test_stat, pvalue))"
   ]
  },
  {
   "cell_type": "markdown",
   "metadata": {},
   "source": [
    "Fail to Reject H0: Since the p-value is slightly greater than 0.05, we fail\\\n",
    "to reject the null hypothesis. This means that there is not enough statistical\\\n",
    "evidence to conclude that there is a significant difference in the distribution\\\n",
    "of \"sum_gamerounds\" between the gate_30 and gate_40 groups."
   ]
  },
  {
   "cell_type": "code",
   "execution_count": 26,
   "metadata": {},
   "outputs": [
    {
     "name": "stdout",
     "output_type": "stream",
     "text": [
      "Gate 30: Mean = 52.45626398210291, CI = (50.07635831864229, 54.83616964556353)\n",
      "Gate 40: Mean = 51.29877552814966, CI = (50.34951964432881, 52.248031411970516)\n"
     ]
    }
   ],
   "source": [
    "mean_30, ci_lower_30, ci_upper_30 = mean_confidence_interval(df[df['version'] == 'gate_30']['sum_gamerounds'])\n",
    "mean_40, ci_lower_40, ci_upper_40 = mean_confidence_interval(df[df['version'] == 'gate_40']['sum_gamerounds'])\n",
    "\n",
    "print(f\"Gate 30: Mean = {mean_30}, CI = ({ci_lower_30}, {ci_upper_30})\")\n",
    "print(f\"Gate 40: Mean = {mean_40}, CI = ({ci_lower_40}, {ci_upper_40})\")"
   ]
  },
  {
   "cell_type": "markdown",
   "metadata": {},
   "source": [
    "### Bootstrapping\n",
    "Estimate Confidence Intervals: To estimate the 95% confidence\\\n",
    "intervals for the mean difference in \"sum_gamerounds\" between the gate_30 and gate_40 groups."
   ]
  },
  {
   "cell_type": "code",
   "execution_count": 27,
   "metadata": {},
   "outputs": [
    {
     "name": "stdout",
     "output_type": "stream",
     "text": [
      "95% Confidence Interval for the mean difference: [-1.00727713  4.15626572]\n",
      "P-value: 0.4537\n"
     ]
    }
   ],
   "source": [
    "group1 = df[df['version'] == 'gate_30']['sum_gamerounds']\n",
    "group2 = df[df['version'] == 'gate_40']['sum_gamerounds']\n",
    "\n",
    "observed_diff = np.mean(group1) - np.mean(group2)\n",
    "\n",
    "n_bootstrap = 10000\n",
    "\n",
    "bootstrap_means = []\n",
    "\n",
    "for _ in range(n_bootstrap):\n",
    "    sample1 = np.random.choice(group1, size=len(group1), replace=True)\n",
    "    sample2 = np.random.choice(group2, size=len(group2), replace=True)\n",
    "    bootstrap_means.append(np.mean(sample1) - np.mean(sample2))\n",
    "\n",
    "bootstrap_means = np.array(bootstrap_means)\n",
    "\n",
    "conf_level = 0.95\n",
    "\n",
    "lower_percentile = ((1.0 - conf_level) / 2.0) * 100\n",
    "upper_percentile = (conf_level + ((1.0 - conf_level) / 2.0)) * 100\n",
    "conf_interval = np.percentile(bootstrap_means, [lower_percentile, upper_percentile])\n",
    "\n",
    "p_value = np.sum(bootstrap_means >= observed_diff) / n_bootstrap\n",
    "\n",
    "print(f\"{int(conf_level * 100)}% Confidence Interval for the mean difference: {conf_interval}\")\n",
    "print(f\"P-value: {p_value}\")"
   ]
  },
  {
   "cell_type": "markdown",
   "metadata": {},
   "source": [
    "- Since the CI includes zero, we do not have enough evidence to conclude\\\n",
    "a significant difference in the mean number of game rounds played between\\\n",
    "the gate_30 and gate_40 groups.\n",
    "- The p-value is greater than 0.05, we fail to reject the null hypothesis.\\\n",
    "This means that there is no statistically significant difference in the mean\\\n",
    "number of game rounds played between the gate_30 and gate_40 groups."
   ]
  },
  {
   "cell_type": "code",
   "execution_count": 28,
   "metadata": {},
   "outputs": [
    {
     "data": {
      "image/png": "[encoded data removed]",
      "text/plain": [
       "<Figure size 640x480 with 1 Axes>"
      ]
     },
     "metadata": {},
     "output_type": "display_data"
    }
   ],
   "source": [
    "fig, ax = plt.subplots()\n",
    "\n",
    "means = [mean_30, mean_40]\n",
    "cis = [(mean_30 - ci_lower_30, ci_upper_30 - mean_30), (mean_40 - ci_lower_40, ci_upper_40 - mean_40)]\n",
    "x_pos = np.arange(len(means))\n",
    "\n",
    "ax.bar(x_pos, means, yerr=[ci[1] for ci in cis], align='center', alpha=0.7, ecolor='black', capsize=10)\n",
    "ax.set_ylabel('Mean Game Rounds')\n",
    "ax.set_xticks(x_pos)\n",
    "ax.set_xticklabels(['Gate 30', 'Gate 40'])\n",
    "ax.set_title('Mean Game Rounds with 95% CI')\n",
    "ax.yaxis.grid(True)\n",
    "\n",
    "plt.tight_layout()\n",
    "plt.show()"
   ]
  },
  {
   "cell_type": "markdown",
   "metadata": {},
   "source": [
    "### Summary\n",
    "- The p-value of 0.4576 suggests that the observed difference in means is not statistically significant.\n",
    "\n",
    "- Wilcoxon Rank-Sum Test p-value of 0.0503 is very close to 0.05, indicating a borderline result.\\\n",
    "While it is slightly greater than 0.05, it suggests that there is a marginal\\\n",
    "evidence of a difference in the distribution of \"sum_gamerounds\" between the\\\n",
    "gate_30 and gate_40 groups. The closeness of the p-value to 0.05 suggests that\\\n",
    "there might be a trend that warrants further investigation.\n",
    "\n",
    "- Since the CI includes zero, we do not have enough evidence to conclude\\\n",
    "a significant difference in the mean number of game rounds played between\\\n",
    "the gate_30 and gate_40 groups."
   ]
  }
 ],
 "metadata": {
  "kernelspec": {
   "display_name": "Python 3",
   "language": "python",
   "name": "python3"
  },
  "language_info": {
   "codemirror_mode": {
    "name": "ipython",
    "version": 3
   },
   "file_extension": ".py",
   "mimetype": "text/x-python",
   "name": "python",
   "nbconvert_exporter": "python",
   "pygments_lexer": "ipython3",
   "version": "3.11.3"
  }
 },
 "nbformat": 4,
 "nbformat_minor": 2
}
